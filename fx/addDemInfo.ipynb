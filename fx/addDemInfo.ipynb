{
 "cells": [
  {
   "cell_type": "code",
   "execution_count": null,
   "id": "a62e7c93-3d1f-4b8d-9548-99731687fd47",
   "metadata": {},
   "outputs": [],
   "source": [
    "def addDemInfo(feed,dems,depID):\n",
    "    feed['sFEDS'] = pd.to_datetime(feed['sFEDS']).dt.strftime('%Y-%m-%d %H:%M:%S')\n",
    "    # GRAB DEMOGRAPHIC INFO                           \n",
    "    demINFO= dems[dems['ID'] == str(depID)]                             # subset to only this whale's data\n",
    "    feed['name'] = str(demINFO['CRCID'].values[0])\n",
    "    feed['sex'] = str(demINFO['SEX'].values[0])\n",
    "    feed['length_m'] = demINFO['UASMEASURE_m'].values[0]\n",
    "    feed['yrArrived'] = demINFO['FIRSTSEEN-YYYY'].values[0]\n",
    "    feed['numCohort'] = demINFO['COHORT'].values[0]\n",
    "    feed['nDeployments'] = demINFO['n_DPLYMNTS'].values[0]\n",
    "    feed['durDeploy'] = demINFO['sum_TAGON-hhmmss'].values[0]\n",
    "    print('Demographic info added to feed structure...')\n",
    "    return(demINFO, feed)"
   ]
  }
 ],
 "metadata": {
  "kernelspec": {
   "display_name": "Python 3 (ipykernel)",
   "language": "python",
   "name": "python3"
  },
  "language_info": {
   "codemirror_mode": {
    "name": "ipython",
    "version": 3
   },
   "file_extension": ".py",
   "mimetype": "text/x-python",
   "name": "python",
   "nbconvert_exporter": "python",
   "pygments_lexer": "ipython3",
   "version": "3.11.5"
  }
 },
 "nbformat": 4,
 "nbformat_minor": 5
}
