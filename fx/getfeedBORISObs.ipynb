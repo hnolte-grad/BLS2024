{
 "cells": [
  {
   "cell_type": "code",
   "execution_count": null,
   "id": "9a633df7-8c10-42ad-85d5-929f900e538e",
   "metadata": {},
   "outputs": [],
   "source": [
    "def getfeedBORISObs(feed, boris, outloc, depID):\n",
    "\n",
    "\n",
    "    feed['feedInd'] = feed.index\n",
    "    mtchs = pd.DataFrame()\n",
    "    for i in range(len(feed)): \n",
    "        sI = feed.at[i, 'sFEI']\n",
    "        eI = feed.at[i, 'eFEI']\n",
    "        fmatchs = pd.DataFrame() #temporary dataframe for storing matches\n",
    "        fmtchs = boris[boris['ObsInd'].between(sI, eI)] #look for behavioral observations occuring during this feeding event\n",
    "        fmtchs.drop(['prhvidname', 'vidnum', 'Time', 'Modifier 1', 'Modifier 2', 'Status', 'Unnamed: 8'], axis = 1, inplace=True) #delete unnecessary columns\n",
    "        fmtchs['feedInd'] = repr(i) #get index of the current feeding event (in feed dataframe)\n",
    "        fmtchs = fmtchs.groupby('feedInd').agg(list) #aggregate all the observations into lists by column\n",
    "        fmtchs['feedInd'] = i\n",
    "        mtchs = pd.concat([mtchs, fmtchs], axis = 0, ignore_index=True)\n",
    "\n",
    "    feed = pd.merge(feed, mtchs, on='feedInd', how='outer')\n",
    "\n",
    "    feed.to_excel(outloc+depID+\"-roll+BORIS.xlsx\")\n",
    "    print('Added BORIS observations to roll data and exported to output dir...')\n",
    "    return feed"
   ]
  }
 ],
 "metadata": {
  "kernelspec": {
   "display_name": "Python 3 (ipykernel)",
   "language": "python",
   "name": "python3"
  },
  "language_info": {
   "codemirror_mode": {
    "name": "ipython",
    "version": 3
   },
   "file_extension": ".py",
   "mimetype": "text/x-python",
   "name": "python",
   "nbconvert_exporter": "python",
   "pygments_lexer": "ipython3",
   "version": "3.11.5"
  }
 },
 "nbformat": 4,
 "nbformat_minor": 5
}
