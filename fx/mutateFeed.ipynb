{
 "cells": [
  {
   "cell_type": "code",
   "execution_count": null,
   "id": "c8d91de8-3ddc-4d99-b5d5-86aa7df14db6",
   "metadata": {},
   "outputs": [],
   "source": [
    "def mutateFeed(feed, prh, fs):\n",
    "    \n",
    "    # ADD FEEDING INFO\n",
    "    feed['n'] = range(1, len(feed)+1)\n",
    "    feed['nFeedEvents'] = feed['n'].max()                             # total number of feeding events\n",
    "    # TIME DATA\n",
    "    feed['durFP_s'] = (feed['eFPI'] - feed['sFPI'])/fs                # duration spent in feeding position\n",
    "    feed['durEFP_s'] = (feed['sFPI'] - feed['sFEI'])/fs               # time it took to enter feeding position\n",
    "    feed['durLFP_s'] = (feed['eFEI'] - feed['eFPI'])/fs \n",
    "    feed['hrFeed'] = np.nan\n",
    "    feed['sFEDS'].apply(lambda x: dt.strptime(x, '%Y-%m-%d %H:%M:%S').hour) # buggy\n",
    "    \n",
    "\n",
    "    # CALC SOME DURATIONS\n",
    "    for i in range(len(feed)):\n",
    "        # IF THERE ARE NO START/END INDICES, GENERATE A PLOT SO THEY CAN BE SELECTED. FIRST CLICK WILL BE START, SECOND WILL BE END\n",
    "        if np.isnan(feed.loc[i, 'sFPI']) == True or np.isnan(feed.loc[i, 'eFPI']) == True:\n",
    "            print(i)\n",
    "            sI =  feed.loc[i, 'sFEI']                                 # original prh start index\n",
    "            eI =  feed.loc[i, 'eFEI']                                 # original prh end index\n",
    "            rolldat = pd.DataFrame(prh['roll'][sI:eI + 1]) \n",
    "            fig, ax = plt.subplots()\n",
    "            ax.plot(rolldat, label='Roll (rad)',  linewidth=2) \n",
    "            selpoints = plt.ginput(2, show_clicks=True,mouse_add=1, mouse_pop=2, mouse_stop=3)  # generate cursor\n",
    "            plt.draw()\n",
    "            feed.loc[i, 'sFPI'] = round(selpoints[0][0]+sI)           # start feeding position index\n",
    "            feed.loc[i, 'eFPI'] = round(selpoints[1][0]+sI)           # end feeding position index\n",
    "            feed.loc[i, 'durFP_s'] = (feed.loc[i, 'eFPI']-feed.loc[i, 'sFPI'])/fs # duration in feeding position (sec)\n",
    "            feed.loc[i, 'durLFP_s'] = (feed.loc[i, 'eFEI']-feed.loc[i, 'eFPI'])/fs # time it too to leave feeding position (sec)\n",
    "            feed.loc[i, 'durEFP_s'] = (feed.loc[i, 'sFPI']-feed.loc[i, 'sFEI'])/fs # time it took to enter feeding position\n",
    "        else:\n",
    "            continue\n",
    "    \n",
    "    for i in range(len(feed)):\n",
    "        sI = feed.loc[i, 'sFPI'].astype(int)\n",
    "        eI = feed.loc[i, 'eFPI'].astype(int)\n",
    "        rolldat = prh['roll'][sI:eI + 1]\n",
    "        #print(rolldat)\n",
    "        pitchdat = prh['pitch'][sI:eI + 1]\n",
    "        feed.loc[i, 'meanRollFP'] = m.degrees(np.mean(rolldat))\n",
    "        feed.loc[i,'stdevRollFP'] = m.degrees(np.std(rolldat))\n",
    "        feed.loc[i,'rangeRollFP'] = m.degrees(np.ptp(rolldat))\n",
    "        feed.loc[i,'meanPitchFP'] = np.mean(pitchdat)\n",
    "        feed.loc[i,'stdevPitchFP'] = np.std(pitchdat)\n",
    "        feed.loc[i,'rangePitchFP'] = np.ptp(pitchdat)\n",
    "        \n",
    "    feed.head()\n",
    "    return(feed)"
   ]
  }
 ],
 "metadata": {
  "kernelspec": {
   "display_name": "Python 3 (ipykernel)",
   "language": "python",
   "name": "python3"
  },
  "language_info": {
   "codemirror_mode": {
    "name": "ipython",
    "version": 3
   },
   "file_extension": ".py",
   "mimetype": "text/x-python",
   "name": "python",
   "nbconvert_exporter": "python",
   "pygments_lexer": "ipython3",
   "version": "3.11.5"
  }
 },
 "nbformat": 4,
 "nbformat_minor": 5
}
