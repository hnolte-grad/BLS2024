{
 "cells": [
  {
   "cell_type": "code",
   "execution_count": null,
   "id": "f5c0f8a4-da7d-4ac3-a292-a3146fa6c3f1",
   "metadata": {},
   "outputs": [],
   "source": [
    "def getTagOnOff(prh):\n",
    "    tagon = prh.get('tagon')\n",
    "    indTagOn = np.argmax(tagon == 1)\n",
    "    tagonDS = prh['DS'][indTagOn]\n",
    "    indices_of_ones = np.where(tagon == 1)[0]\n",
    "    if len(indices_of_ones) > 0:\n",
    "        indTagOff = indices_of_ones[-1]\n",
    "    else:\n",
    "        print(\"No occurrence of '1' in tagon array.\")\n",
    "    tagoffDS = prh['DS'][indTagOff]\n",
    "    return(indTagOn, tagonDS, indTagOff, tagoffDS)"
   ]
  }
 ],
 "metadata": {
  "kernelspec": {
   "display_name": "Python 3 (ipykernel)",
   "language": "python",
   "name": "python3"
  },
  "language_info": {
   "codemirror_mode": {
    "name": "ipython",
    "version": 3
   },
   "file_extension": ".py",
   "mimetype": "text/x-python",
   "name": "python",
   "nbconvert_exporter": "python",
   "pygments_lexer": "ipython3",
   "version": "3.11.5"
  }
 },
 "nbformat": 4,
 "nbformat_minor": 5
}
