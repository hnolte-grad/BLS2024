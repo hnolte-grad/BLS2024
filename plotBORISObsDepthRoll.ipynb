{
 "cells": [
  {
   "cell_type": "code",
   "execution_count": null,
   "id": "e79ac5fa-1a35-44c4-aeb9-0417d7a58082",
   "metadata": {},
   "outputs": [],
   "source": [
    "def plotBORIS(prhObs, outloc, depID):\n",
    "    filtPDat = prhObs[prhObs['ObsType'].str.strip() != '']\n",
    "    print(filtPDat.head())\n",
    "    obs_type_colors = {'Prey': 'mediumvioletred', 'Social': 'darkorchid', 'Feed': 'seagreen'}\n",
    "    grouped_data = filtPDat.groupby('ObsType')\n",
    "\n",
    "    fig, (ax1, ax2, ax3) = plt.subplots(3,1,figsize=(18,12))\n",
    "    # Observational plot\n",
    "    for obs_type, group in grouped_data:\n",
    "        obs_color = obs_type_colors.get(obs_type, 'black')\n",
    "        ax3.vlines(x=group['DS'], ymin=0, ymax=1, color=obs_color, label=obs_type)\n",
    "        \n",
    "    for i, v in enumerate(periodsNOCAM['sDS']):\n",
    "        sI = periodsNOCAM.loc[i,'sDS']\n",
    "        eI = periodsNOCAM.loc[i,'eDS']\n",
    "        ax3.axvspan(sI, eI, color = 'darkgray', alpha = 0.5)\n",
    "        \n",
    "    #depth plot\n",
    "    ax1.plot(prhObs['DS'], prhObs['p'], color = 'steelblue')\n",
    "    ax1.invert_yaxis()\n",
    "\n",
    "    # roll plot\n",
    "    ax2.plot(prhObs['DS'], prhObs['roll'], color = 'firebrick')\n",
    "\n",
    "    common_xlim = (tagonDS, tagoffDS)  # Replace start_date and end_date with your desired limits\n",
    "    ax1.set_xlim(common_xlim)\n",
    "    ax2.set_xlim(common_xlim)\n",
    "    ax3.set_xlim(common_xlim)\n",
    "    ax3.set_ylim([0,1])\n",
    "\n",
    "    #handles, labels = ax3.get_legend_handles_labels()\n",
    "    #plt.legend(handles, labels, loc='upper left')\n",
    "    # Shrink current axis's height by 10% on the bottom\n",
    "    box = ax3.get_position()\n",
    "    ax3.set_position([box.x0, box.y0 + box.height * 0.1,\n",
    "                 box.width, box.height * 0.9])\n",
    "\n",
    "    # Put a legend below current axis\n",
    "    ax3.legend(loc='upper center', bbox_to_anchor=(0.5, -0.05),\n",
    "          fancybox=True, shadow=True, ncol = 3)\n",
    "\n",
    "\n",
    "\n",
    "    ax1.set_xticks([])\n",
    "    ax1.set_xlabel('')\n",
    "    ax2.set_xticks([])\n",
    "    ax2.set_xlabel('')\n",
    "    ax3.set_yticks([])\n",
    "    ax3.set_ylabel('')\n",
    "    ax1.set_ylabel('depth(m)')\n",
    "    ax2.set_ylabel('roll(rad)')\n",
    "    fig.suptitle('BORIS Observations v depth, roll: '+depID, fontsize=20)\n",
    "    plt.savefig(outloc+\"\\\\\"+depID+\"_BORISObs-depth-roll.png\")\n",
    "    return fig\n"
   ]
  }
 ],
 "metadata": {
  "kernelspec": {
   "display_name": "Python 3 (ipykernel)",
   "language": "python",
   "name": "python3"
  },
  "language_info": {
   "codemirror_mode": {
    "name": "ipython",
    "version": 3
   },
   "file_extension": ".py",
   "mimetype": "text/x-python",
   "name": "python",
   "nbconvert_exporter": "python",
   "pygments_lexer": "ipython3",
   "version": "3.11.5"
  }
 },
 "nbformat": 4,
 "nbformat_minor": 5
}
