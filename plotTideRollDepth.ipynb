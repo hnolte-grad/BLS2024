{
 "cells": [
  {
   "cell_type": "code",
   "execution_count": null,
   "id": "f9fc39de-7b07-42fe-be77-42362f02f74f",
   "metadata": {},
   "outputs": [],
   "source": [
    "def plotTideRollDepth(depTides, prh, tagonDS, tagoffDS, outloc, depID, hilotides):\n",
    "    \n",
    "    d = scipy.zeros(len(depTides['Prediction']))\n",
    "    commonxlim = (tagonDS, tagoffDS)\n",
    "    \n",
    "    fig, (ax, ax2, ax3) = plt.subplots(3,1,figsize = (16,10))\n",
    "    ax.plot(depTides['DateTime'], depTides['Prediction'], color = 'royalblue', linestyle = 'dashed')\n",
    "    ax.fill_between(depTides['DateTime'], depTides['Prediction'], where=depTides['Prediction']>=d, interpolate=True, color='lightsteelblue')\n",
    "    ax.set_xlim(commonxlim)\n",
    "    ax.set(ylim=[0, max(depTides['Prediction'])+1])\n",
    "    ax.set_xlabel('')\n",
    "    ax.set_xticks([])\n",
    "    ax.set_ylabel('Tidal Height (ft)')\n",
    "    ax.vlines(x=hilotides['centerPeriod'], ymin=0, ymax=max(depTides['Prediction'])+1, color = 'black', linestyles = 'dashed')\n",
    "    ax.vlines(x=hilotides['periodStartDS'], ymin=0, ymax=max(depTides['Prediction'])+1, color='black')\n",
    "\n",
    "    for name, group in depTides.groupby('descTide'):\n",
    "        # Choose a representative point in the group for annotation\n",
    "        annotation_point = group['DateTime'].iloc[len(group) // 2]\n",
    "        \n",
    "        # Add annotation box at the top of the plot\n",
    "        ax.annotate(name, xy=(annotation_point, max(depTides['Prediction'])),\n",
    "                    xytext=(annotation_point, max(depTides['Prediction']) + 0.1),\n",
    "                    ha='center', va='bottom', color='black', fontsize=10, bbox=dict(facecolor='white', edgecolor='black', boxstyle='round'))\n",
    "\n",
    "    ax2.plot(prh['DS'], prh['roll'], color = 'indianred')\n",
    "    ax2.set_xlim(commonxlim)\n",
    "    ax2.set_xlabel('')\n",
    "    ax2.set_xticks([])\n",
    "    ax2.set_ylabel('Roll (rad)')\n",
    "    \n",
    "    ax3.plot(prh['DS'], prh['p'], color = 'royalblue')\n",
    "    ax3.set_xlim(commonxlim)\n",
    "    ax3.set(ylim=[0, max(prh['p'])+5])\n",
    "    ax3.invert_yaxis()\n",
    "    ax3.set_ylabel('Depth (m)')\n",
    "    ax3.format_xdata = mdates.DateFormatter('%m-%d %H:%M')\n",
    "    plt.xticks(rotation=45)\n",
    "    \n",
    "    fig.suptitle('tide, roll, depth over time: '+depID, fontsize=20)\n",
    "    \n",
    "    plt.savefig(outloc+\"\\\\\"+depID+\"_tide+depth+roll.png\")\n",
    "    \n",
    "    plt.show()"
   ]
  }
 ],
 "metadata": {
  "kernelspec": {
   "display_name": "Python 3 (ipykernel)",
   "language": "python",
   "name": "python3"
  },
  "language_info": {
   "codemirror_mode": {
    "name": "ipython",
    "version": 3
   },
   "file_extension": ".py",
   "mimetype": "text/x-python",
   "name": "python",
   "nbconvert_exporter": "python",
   "pygments_lexer": "ipython3",
   "version": "3.11.5"
  }
 },
 "nbformat": 4,
 "nbformat_minor": 5
}
