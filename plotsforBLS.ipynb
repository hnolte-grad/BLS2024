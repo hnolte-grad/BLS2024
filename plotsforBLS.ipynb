{
 "cells": [
  {
   "cell_type": "code",
   "execution_count": 1,
   "id": "016787cc-33c8-4982-a81e-0611cc42bda4",
   "metadata": {},
   "outputs": [
    {
     "ename": "Exception",
     "evalue": "File `'mutateBORISandVID.ipynb'` not found.",
     "output_type": "error",
     "traceback": [
      "\u001b[1;31m---------------------------------------------------------------------------\u001b[0m",
      "\u001b[1;31mOSError\u001b[0m                                   Traceback (most recent call last)",
      "File \u001b[1;32m~\\anaconda3\\envs\\Python\\Lib\\site-packages\\IPython\\core\\magics\\execution.py:716\u001b[0m, in \u001b[0;36mExecutionMagics.run\u001b[1;34m(self, parameter_s, runner, file_finder)\u001b[0m\n\u001b[0;32m    715\u001b[0m     fpath \u001b[38;5;241m=\u001b[39m arg_lst[\u001b[38;5;241m0\u001b[39m]\n\u001b[1;32m--> 716\u001b[0m     filename \u001b[38;5;241m=\u001b[39m file_finder(fpath)\n\u001b[0;32m    717\u001b[0m \u001b[38;5;28;01mexcept\u001b[39;00m \u001b[38;5;167;01mIndexError\u001b[39;00m \u001b[38;5;28;01mas\u001b[39;00m e:\n",
      "File \u001b[1;32m~\\anaconda3\\envs\\Python\\Lib\\site-packages\\IPython\\utils\\path.py:90\u001b[0m, in \u001b[0;36mget_py_filename\u001b[1;34m(name)\u001b[0m\n\u001b[0;32m     89\u001b[0m         \u001b[38;5;28;01mreturn\u001b[39;00m py_name\n\u001b[1;32m---> 90\u001b[0m \u001b[38;5;28;01mraise\u001b[39;00m \u001b[38;5;167;01mIOError\u001b[39;00m(\u001b[38;5;124m\"\u001b[39m\u001b[38;5;124mFile `\u001b[39m\u001b[38;5;132;01m%r\u001b[39;00m\u001b[38;5;124m` not found.\u001b[39m\u001b[38;5;124m\"\u001b[39m \u001b[38;5;241m%\u001b[39m name)\n",
      "\u001b[1;31mOSError\u001b[0m: File `'mutateBORISandVID.ipynb'` not found.",
      "\nThe above exception was the direct cause of the following exception:\n",
      "\u001b[1;31mException\u001b[0m                                 Traceback (most recent call last)",
      "Cell \u001b[1;32mIn[1], line 28\u001b[0m\n\u001b[0;32m     26\u001b[0m \u001b[38;5;28;01mimport\u001b[39;00m \u001b[38;5;21;01mscipy\u001b[39;00m\n\u001b[0;32m     27\u001b[0m \u001b[38;5;28;01mimport\u001b[39;00m \u001b[38;5;21;01mmath\u001b[39;00m \u001b[38;5;28;01mas\u001b[39;00m \u001b[38;5;21;01mm\u001b[39;00m\n\u001b[1;32m---> 28\u001b[0m get_ipython()\u001b[38;5;241m.\u001b[39mrun_line_magic(\u001b[38;5;124m'\u001b[39m\u001b[38;5;124mrun\u001b[39m\u001b[38;5;124m'\u001b[39m, \u001b[38;5;124m'\u001b[39m\u001b[38;5;124mmutateBORISandVID.ipynb\u001b[39m\u001b[38;5;124m'\u001b[39m)\n\u001b[0;32m     29\u001b[0m get_ipython()\u001b[38;5;241m.\u001b[39mrun_line_magic(\u001b[38;5;124m'\u001b[39m\u001b[38;5;124mrun\u001b[39m\u001b[38;5;124m'\u001b[39m, \u001b[38;5;124m'\u001b[39m\u001b[38;5;124mgetfeedBORISObs.ipynb\u001b[39m\u001b[38;5;124m'\u001b[39m)\n\u001b[0;32m     30\u001b[0m get_ipython()\u001b[38;5;241m.\u001b[39mrun_line_magic(\u001b[38;5;124m'\u001b[39m\u001b[38;5;124mrun\u001b[39m\u001b[38;5;124m'\u001b[39m, \u001b[38;5;124m'\u001b[39m\u001b[38;5;124mmakePRHObs.ipynb\u001b[39m\u001b[38;5;124m'\u001b[39m)\n",
      "File \u001b[1;32m~\\anaconda3\\envs\\Python\\Lib\\site-packages\\IPython\\core\\interactiveshell.py:2432\u001b[0m, in \u001b[0;36mInteractiveShell.run_line_magic\u001b[1;34m(self, magic_name, line, _stack_depth)\u001b[0m\n\u001b[0;32m   2430\u001b[0m     kwargs[\u001b[38;5;124m'\u001b[39m\u001b[38;5;124mlocal_ns\u001b[39m\u001b[38;5;124m'\u001b[39m] \u001b[38;5;241m=\u001b[39m \u001b[38;5;28mself\u001b[39m\u001b[38;5;241m.\u001b[39mget_local_scope(stack_depth)\n\u001b[0;32m   2431\u001b[0m \u001b[38;5;28;01mwith\u001b[39;00m \u001b[38;5;28mself\u001b[39m\u001b[38;5;241m.\u001b[39mbuiltin_trap:\n\u001b[1;32m-> 2432\u001b[0m     result \u001b[38;5;241m=\u001b[39m fn(\u001b[38;5;241m*\u001b[39margs, \u001b[38;5;241m*\u001b[39m\u001b[38;5;241m*\u001b[39mkwargs)\n\u001b[0;32m   2434\u001b[0m \u001b[38;5;66;03m# The code below prevents the output from being displayed\u001b[39;00m\n\u001b[0;32m   2435\u001b[0m \u001b[38;5;66;03m# when using magics with decorator @output_can_be_silenced\u001b[39;00m\n\u001b[0;32m   2436\u001b[0m \u001b[38;5;66;03m# when the last Python token in the expression is a ';'.\u001b[39;00m\n\u001b[0;32m   2437\u001b[0m \u001b[38;5;28;01mif\u001b[39;00m \u001b[38;5;28mgetattr\u001b[39m(fn, magic\u001b[38;5;241m.\u001b[39mMAGIC_OUTPUT_CAN_BE_SILENCED, \u001b[38;5;28;01mFalse\u001b[39;00m):\n",
      "File \u001b[1;32m~\\anaconda3\\envs\\Python\\Lib\\site-packages\\IPython\\core\\magics\\execution.py:727\u001b[0m, in \u001b[0;36mExecutionMagics.run\u001b[1;34m(self, parameter_s, runner, file_finder)\u001b[0m\n\u001b[0;32m    725\u001b[0m     \u001b[38;5;28;01mif\u001b[39;00m os\u001b[38;5;241m.\u001b[39mname \u001b[38;5;241m==\u001b[39m \u001b[38;5;124m'\u001b[39m\u001b[38;5;124mnt\u001b[39m\u001b[38;5;124m'\u001b[39m \u001b[38;5;129;01mand\u001b[39;00m re\u001b[38;5;241m.\u001b[39mmatch(\u001b[38;5;124mr\u001b[39m\u001b[38;5;124m\"\u001b[39m\u001b[38;5;124m^\u001b[39m\u001b[38;5;124m'\u001b[39m\u001b[38;5;124m.*\u001b[39m\u001b[38;5;124m'\u001b[39m\u001b[38;5;124m$\u001b[39m\u001b[38;5;124m\"\u001b[39m,fpath):\n\u001b[0;32m    726\u001b[0m         warn(\u001b[38;5;124m'\u001b[39m\u001b[38;5;124mFor Windows, use double quotes to wrap a filename: \u001b[39m\u001b[38;5;132;01m%r\u001b[39;00m\u001b[38;5;124mun \u001b[39m\u001b[38;5;124m\"\u001b[39m\u001b[38;5;124mmypath\u001b[39m\u001b[38;5;130;01m\\\\\u001b[39;00m\u001b[38;5;124mmyfile.py\u001b[39m\u001b[38;5;124m\"\u001b[39m\u001b[38;5;124m'\u001b[39m)\n\u001b[1;32m--> 727\u001b[0m     \u001b[38;5;28;01mraise\u001b[39;00m \u001b[38;5;167;01mException\u001b[39;00m(msg) \u001b[38;5;28;01mfrom\u001b[39;00m \u001b[38;5;21;01me\u001b[39;00m\n\u001b[0;32m    728\u001b[0m \u001b[38;5;28;01mexcept\u001b[39;00m \u001b[38;5;167;01mTypeError\u001b[39;00m:\n\u001b[0;32m    729\u001b[0m     \u001b[38;5;28;01mif\u001b[39;00m fpath \u001b[38;5;129;01min\u001b[39;00m sys\u001b[38;5;241m.\u001b[39mmeta_path:\n",
      "\u001b[1;31mException\u001b[0m: File `'mutateBORISandVID.ipynb'` not found."
     ]
    }
   ],
   "source": [
    "# -- LOAD LIBRARIES -- #\n",
    "import scipy.io as scio\n",
    "import pandas as pd\n",
    "import matplotlib\n",
    "import matplotlib.pyplot as plt\n",
    "import numpy as np\n",
    "import requests\n",
    "import openpyxl\n",
    "from datetime import datetime as dt\n",
    "from datetime import timedelta\n",
    "import plotly.graph_objects as go\n",
    "from plotly.subplots import make_subplots\n",
    "from ipywidgets import Button, Layout\n",
    "import mplcursors\n",
    "import os\n",
    "from itertools import chain\n",
    "from matplotlib.widgets import Button\n",
    "from pathlib import Path\n",
    "import xlrd\n",
    "import warnings\n",
    "import matplotlib.dates as mdates\n",
    "import seaborn as sns\n",
    "import random\n",
    "import ipywidgets as widgets\n",
    "import csv\n",
    "import scipy\n",
    "import math as m\n",
    "%run mutateBORISandVID.ipynb\n",
    "%run getfeedBORISObs.ipynb\n",
    "%run makePRHObs.ipynb\n",
    "%run plotBORISObsDepthRoll.ipynb\n",
    "%run plotQCRolls.ipynb\n",
    "%run plotQCSlim.ipynb\n",
    "%run getTagOnOff.ipynb\n",
    "%run getTides.ipynb\n",
    "%run plotTideRollDepth.ipynb\n",
    "%run descTidalChar.ipynb\n",
    "\n",
    "warnings.simplefilter('ignore')\n"
   ]
  },
  {
   "cell_type": "code",
   "execution_count": null,
   "id": "badb0406-ced7-4963-af74-715caf8851d7",
   "metadata": {},
   "outputs": [],
   "source": [
    "# -- LOAD DATA -- #\n",
    "# ------------------------ User defined variables --------------------------------------- #\n",
    "fs = 10 # What's the sampling rate of the prh/speed file you want to pull?\n",
    "os.chdir('C:\\\\01_Work\\\\1Project Home\\\\1Research\\\\GRAYS\\\\_ERLATFEED')\n",
    "# --------------------------------------------------------------------------------------- #\n",
    "datpth = \"C:\\\\01_Work\\\\1Project Home\\\\1Research\\\\GRAYS\\\\_tag data\\\\\"\n",
    "cdir = str(os.getcwd())\n",
    "\n",
    "depID = input('Which deployment is being analyzed?')                                           # get the deployment ID for naming and pulling files\n",
    "prh = scio.loadmat(datpth + depID + \"\\\\\" + depID + \" 10Hzprh.mat\")       # prh file\n",
    "#speed = scio.loadmat(datpth + depID + \"\\\\\" + depID + \"_10HzSpeed.mat\")   # speed file\n",
    "#speed = pd.DataFrame(speed['spd'])                                             # \n",
    "feed = pd.read_csv(datpth + depID + \"\\\\feed\\\\\"+ depID + \"_rolls.csv\")         # feeding file\n",
    "dems = pd.read_excel(\"C:\\\\01_Work\\\\1Project Home\\\\1Research\\\\GRAYS\\\\mastertracker_GRAYS.xlsx\") # demographic information\n",
    "mastfeed = pd.read_excel(cdir + '\\\\analysisoutput\\\\master-feed+tide.xlsx')\n",
    "mastsum = pd.read_excel(cdir + '\\\\analysisoutput\\\\master-sumfeed.xlsx')\n",
    "\n",
    "# SET UP OUTPUT DIR IF NEEDED\n",
    "outloc = str(cdir + '\\\\analysisoutput\\\\' + depID + \"\\\\\")                                       # path to output files\n",
    "if os.path.exists(outloc) == False:\n",
    "    os.mkdir(outloc)\n",
    "    os.mkdir(outloc+\"\\\\rejected rolls\\\\\")\n",
    "else:\n",
    "    print('Output directory already exists...')\n",
    "\n",
    "# IF THERE IS NO VIDEO DATA FOR THIS DEP SKIP NEXT CELL\n",
    "doesexist = prh.get('vidDN')\n",
    "if doesexist is None or len(doesexist) == 0:\n",
    "    nxtcell = 0\n",
    "    print('No video data to process, continue to cell 2.')\n",
    "    novid = 1\n",
    "else:\n",
    "    nxtcell = 1\n",
    "    novid = 0\n",
    "    print('Video data to process, continue to cell 1.')\n"
   ]
  },
  {
   "cell_type": "code",
   "execution_count": null,
   "id": "9fdde845-a1a6-4552-a552-e0baf34874c7",
   "metadata": {},
   "outputs": [],
   "source": [
    "warnings.simplefilter('ignore')\n",
    "for row in data:\n",
    "    plt.plot(row)"
   ]
  },
  {
   "cell_type": "code",
   "execution_count": null,
   "id": "0ffffd83-75da-48a1-a4e1-29e213887d02",
   "metadata": {},
   "outputs": [],
   "source": []
  }
 ],
 "metadata": {
  "kernelspec": {
   "display_name": "Python 3 (ipykernel)",
   "language": "python",
   "name": "python3"
  },
  "language_info": {
   "codemirror_mode": {
    "name": "ipython",
    "version": 3
   },
   "file_extension": ".py",
   "mimetype": "text/x-python",
   "name": "python",
   "nbconvert_exporter": "python",
   "pygments_lexer": "ipython3",
   "version": "3.11.5"
  }
 },
 "nbformat": 4,
 "nbformat_minor": 5
}
